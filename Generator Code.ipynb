{
 "cells": [
  {
   "cell_type": "code",
   "execution_count": null,
   "metadata": {},
   "outputs": [],
   "source": [
    "from keras.layers import Dense,Dropout, Input\n",
    "from keras.models import Model\n",
    "import pandas as pd \n"
   ]
  },
  {
   "cell_type": "code",
   "execution_count": null,
   "metadata": {},
   "outputs": [],
   "source": [
    "# Function to calculate NMSE Error. \n",
    "def Calculate_NMSE(real,prediction):\n",
    "    difference = real-prediction\n",
    "    NMSE_error = Squared_err(difference)/Squared_err(real)\n",
    "    return NMSE_error\n",
    "\n",
    "def Squared_err(mat):\n",
    "    Norm = mat[:,0]**2 + 2.*mat[:,1]**2 + 2.*mat[:,2]**2 + 2.*mat[:,3]**2 + 2.*mat[:,4]**2 + 2.*mat[:,5]**2 + mat[:,6]**2\n",
    "    + 2.*mat[:,7]**2 + 2.*mat[:,8]**2 + 2.*mat[:,9]**2 + 2.*mat[:,10]**2 + mat[:,11]**2 + 2.*mat[:,12]**2 + 2.*mat[:,13]**2\n",
    "    + 2.*mat[:,14]**2 + mat[:,15]**2 + 2.*mat[:,16]**2 + 2.*mat[:,17]**2 + mat[:,18]**2 + 2.*mat[:,19]**2 + mat[:,20]**2\n",
    "    return Norm"
   ]
  },
  {
   "cell_type": "code",
   "execution_count": null,
   "metadata": {},
   "outputs": [],
   "source": [
    "# Normlization range [0,1], based on the maximum and minimum of each coloumn. \n",
    "def normalize(df,orginal):\n",
    "    result = df.copy()\n",
    "    for feature_name in df.columns:\n",
    "        max_value = orginal[feature_name].max()\n",
    "        min_value = orginal[feature_name].min()\n",
    "        result[feature_name] = (df[feature_name] - min_value) / (max_value - min_value)\n",
    "    return result\n",
    "\n",
    "# Unnormalizatiton Function \n",
    "def unnormalize(df,orginal):\n",
    "    result = df.copy()\n",
    "    for feature_name in df.columns:\n",
    "        max_value = orginal[feature_name].max()\n",
    "        min_value = orginal[feature_name].min()\n",
    "        result[feature_name] = (df[feature_name])*(max_value - min_value) + min_value \n",
    "    return result\n"
   ]
  },
  {
   "cell_type": "code",
   "execution_count": null,
   "metadata": {},
   "outputs": [],
   "source": [
    "# Data Reading / only portion of the data was provided for testing purposes. \n",
    "Data = pd.read_csv(\"..../Testing_Data.csv\", header = None,sep='\\,+', dtype= 'float32')\n",
    "max_min_values = pd.read_csv(\"..../max_min_data.csv\", header = None,sep='\\,+', dtype= 'float32')"
   ]
  },
  {
   "cell_type": "code",
   "execution_count": null,
   "metadata": {},
   "outputs": [],
   "source": [
    "# split the design parameter data\n",
    "Design_parameter = Data.iloc[:,[0,1,2,3,4,50,51,52,53,54,55]]\n",
    "Design_parameter_max_min = max_min_values.iloc[:,[0,1,2,3,4,50,51,52,53,54,55]]\n",
    "\n",
    "# Split the stiffness components data \n",
    "Stiffness_components = Data.iloc[:,29:50]  \n",
    "Stiffness_components_max_min = max_min_values.iloc[:,29:50]\n",
    "\n",
    "# Change the DataFrame type into ndarray\n",
    "Design_parameter = Design_parameter.values\n",
    "Stiffness_components = Stiffness_components.values\n",
    "Design_parameter_max_min = Design_parameter_max_min.values\n",
    "Stiffness_components_max_min = Stiffness_components_max_min.values\n"
   ]
  },
  {
   "cell_type": "code",
   "execution_count": null,
   "metadata": {},
   "outputs": [],
   "source": [
    "# Apply normaliztion on the stiffness data. \n",
    "Stiffness_components_norm = normalize (pd.DataFrame(Stiffness_components),pd.DataFrame(Stiffness_components_max_min))\n",
    "Stiffness_components_norm = Stiffness_components_norm.values"
   ]
  },
  {
   "cell_type": "code",
   "execution_count": null,
   "metadata": {},
   "outputs": [],
   "source": [
    "# Build a Forward Model \n",
    "\n",
    "input_layer = Input((11,))\n",
    "\n",
    "## create an MLP architecture with dense layers \n",
    "dense_layer1 = Dense(units=512,activation='relu')(input_layer)\n",
    "dense_layer1 = Dropout(0.05)(dense_layer1)\n",
    "dense_layer2 = Dense(units=128, activation='relu')(dense_layer1)\n",
    "dense_layer2 = Dropout(0.05)(dense_layer2)\n",
    "dense_layer3 = Dense(units=32, activation='relu')(dense_layer2)\n",
    "dense_layer3 = Dropout(0.05)(dense_layer3)\n",
    "output_layer = Dense(units=21,activation='sigmoid')(dense_layer3)\n",
    "\n",
    "## define the model with input layer and output layer\n",
    "Forward_Model = Model(inputs=input_layer, outputs=output_layer)\n",
    "Forward_Model.summary()\n",
    "\n",
    "# Compile the model \n",
    "Forward_Model.compile(loss='mse', optimizer='adam')\n",
    "# Load the weights for the trained model\n",
    "Forward_Model.load_weights('models/Forward_Model_rotation.h5')"
   ]
  },
  {
   "cell_type": "code",
   "execution_count": null,
   "metadata": {},
   "outputs": [],
   "source": [
    "# Build a generator. \n",
    "input_layer_1 = Input((21,))\n",
    "\n",
    "## create an MLP architecture with dense layers \n",
    "a = Dense(units=512,activation = 'relu')(input_layer_1)\n",
    "a = Dropout(0.05)(a)\n",
    "a = Dense(units=512,activation = 'relu')(a)\n",
    "a = Dropout(0.05)(a)\n",
    "a = Dense(units=512,activation = 'relu')(a)\n",
    "a = Dropout(0.05)(a)\n",
    "a = Dense(units=512,activation = 'relu')(a)\n",
    "output_layer_1 = Dense(units=11,activation = 'sigmoid')(a)\n",
    "\n",
    "## define the model with input layer and output layer\n",
    "generator_Model = Model(inputs=input_layer_1, outputs=output_layer_1)\n",
    "generator_Model.summary()\n",
    "\n",
    "# Compile the model. \n",
    "generator_Model.compile(loss='mse', optimizer='adam')\n",
    "# Load the weights for the trained model\n",
    "generator_Model.load_weights(\"models/generator_weights_rotation.h5\") "
   ]
  },
  {
   "cell_type": "code",
   "execution_count": null,
   "metadata": {},
   "outputs": [],
   "source": [
    "# prediction of the normalized data\n",
    "Predicted_Design_parameters_norm = generator_Model.predict(Stiffness_components_norm)\n",
    "Predicted_stiffness_components_norm = Forward_Model.predict(Predicted_Design_parameters_norm)\n",
    "# Unnormalize the data \n",
    "Predicted_Design_parameters = unnormalize(pd.DataFrame(Predicted_Design_parameters_norm),pd.DataFrame(Design_parameter_max_min))\n",
    "Predicted_stiffness_components = unnormalize(pd.DataFrame(Predicted_stiffness_components_norm),pd.DataFrame(Stiffness_components_max_min))"
   ]
  }
 ],
 "metadata": {
  "kernelspec": {
   "display_name": "Python 3",
   "language": "python",
   "name": "python3"
  },
  "language_info": {
   "codemirror_mode": {
    "name": "ipython",
    "version": 3
   },
   "file_extension": ".py",
   "mimetype": "text/x-python",
   "name": "python",
   "nbconvert_exporter": "python",
   "pygments_lexer": "ipython3",
   "version": "3.11.3"
  },
  "orig_nbformat": 4
 },
 "nbformat": 4,
 "nbformat_minor": 2
}
